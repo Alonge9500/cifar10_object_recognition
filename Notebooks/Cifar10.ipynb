{
 "cells": [
  {
   "cell_type": "markdown",
   "id": "05e88ced-3750-4494-8064-d6509c6308cc",
   "metadata": {},
   "source": [
    "## CIFAR 10 Object Recognition Project"
   ]
  },
  {
   "cell_type": "code",
   "execution_count": 121,
   "id": "ab3251b0-c45b-42ff-b970-ca2d04f2763b",
   "metadata": {},
   "outputs": [],
   "source": [
    "#Import Libraries\n",
    "\n",
    "import os\n",
    "import pandas as pd\n",
    "import numpy as np\n",
    "import matplotlib.pyplot as plt\n",
    "import seaborn as sns\n",
    "import cv2\n",
    "from sklearn.preprocessing import OneHotEncoder, Normalizer, LabelEncoder\n",
    "from tqdm import tqdm\n",
    "from skimage.feature import hog\n",
    "from skimage import color\n",
    "from sklearn.model_selection import train_test_split\n",
    "from sklearn.linear_model import LogisticRegression\n",
    "#from xgboost import XGBClassifier\n",
    "from sklearn.metrics import accuracy_score, classification_report, f1_score\n"
   ]
  },
  {
   "cell_type": "code",
   "execution_count": null,
   "id": "f06d412f-4028-4d7e-b6f1-8738f37b7d59",
   "metadata": {},
   "outputs": [],
   "source": []
  },
  {
   "cell_type": "code",
   "execution_count": 68,
   "id": "9484ec80-c2d3-4682-8464-c42709d94dce",
   "metadata": {},
   "outputs": [
    {
     "data": {
      "text/plain": [
       "'C:\\\\Users\\\\USER-PC\\\\Desktop\\\\Programming\\\\PYTHON\\\\cifar10_object_recognition\\\\cifar10/train'"
      ]
     },
     "execution_count": 68,
     "metadata": {},
     "output_type": "execute_result"
    }
   ],
   "source": [
    "# Load Data\n",
    "\n",
    "current_dir = os.getcwd()\n",
    "base_dir = os.path.dirname(current_dir)\n",
    "\n",
    "#Define Train Path\n",
    "train_path = os.path.join(base_dir, \"cifar10/train\")\n",
    "test_path = os.path.join(base_dir, \"cifar10/test\")\n",
    "train_path\n"
   ]
  },
  {
   "cell_type": "code",
   "execution_count": 69,
   "id": "855d6cac-2a38-4807-92a6-4b479478c95f",
   "metadata": {},
   "outputs": [],
   "source": [
    "# Preprocessing\n",
    "\n",
    "Image_Size = 32\n",
    "\n"
   ]
  },
  {
   "cell_type": "code",
   "execution_count": 70,
   "id": "7a03f08c-21b2-40ee-99d9-fa6baa323996",
   "metadata": {},
   "outputs": [],
   "source": [
    "def preprocess_image(path,Image_Size):\n",
    "    '''\n",
    "    Input:  Path -> Image Path\n",
    "            Image_Size -> intended size for each images\n",
    "\n",
    "    Return: images, labels\n",
    "\n",
    "    Preprocess the image into arrays\n",
    "    \n",
    "    '''\n",
    "\n",
    "    images = []\n",
    "    labels = []\n",
    "    for class_name in tqdm(os.listdir(path)):\n",
    "        class_path = os.path.join(path, class_name)\n",
    "        if os.path.isdir(class_path):\n",
    "            for img_file in os.listdir(class_path):\n",
    "                \n",
    "                img_path = os.path.join(class_path, img_file)\n",
    "                \n",
    "    \n",
    "                \n",
    "                # Resize Images\n",
    "                img = cv2.imread(img_path)\n",
    "                \n",
    "                if img is not None:\n",
    "                    img = cv2.resize(img, (Image_Size, Image_Size))\n",
    "                    images.append(img)\n",
    "                    labels.append(class_name)\n",
    "\n",
    "    return images,labels\n",
    "    \n",
    "        \n",
    "        "
   ]
  },
  {
   "cell_type": "code",
   "execution_count": 71,
   "id": "e20738b9-5e8b-425e-a899-c25a2c0e5c2a",
   "metadata": {},
   "outputs": [
    {
     "name": "stderr",
     "output_type": "stream",
     "text": [
      "100%|██████████████████████████████████████████████████████████████████████████████████| 10/10 [15:10<00:00, 91.01s/it]\n",
      "100%|██████████████████████████████████████████████████████████████████████████████████| 10/10 [03:04<00:00, 18.46s/it]\n"
     ]
    }
   ],
   "source": [
    "train_images, train_labels = preprocess_image(train_path,Image_Size)\n",
    "test_images, test_labels = preprocess_image(test_path,Image_Size)\n"
   ]
  },
  {
   "cell_type": "code",
   "execution_count": 96,
   "id": "d38b8cfc-a121-437d-abb7-81e0555ba6d6",
   "metadata": {},
   "outputs": [],
   "source": [
    "# Convert to arrays\n",
    "train_images = np.array(train_images, dtype=\"float32\") / 255.0 \n",
    "train_labels = np.array(train_labels)\n",
    "\n"
   ]
  },
  {
   "cell_type": "code",
   "execution_count": 97,
   "id": "5357aa50-39ba-47c9-8056-ebf6023eb135",
   "metadata": {},
   "outputs": [],
   "source": [
    "# Convert to arrays\n",
    "test_images = np.array(test_images, dtype=\"float32\") / 255.0 \n",
    "test_labels = np.array(test_labels)\n"
   ]
  },
  {
   "cell_type": "markdown",
   "id": "ebffe52d-b1b8-45fb-b3f4-1833b28c3001",
   "metadata": {},
   "source": [
    "### Feature Extraction (HOG)"
   ]
  },
  {
   "cell_type": "code",
   "execution_count": 108,
   "id": "b699d12d-ebfd-4ddf-b9f2-ceba4d78e480",
   "metadata": {},
   "outputs": [
    {
     "name": "stderr",
     "output_type": "stream",
     "text": [
      "100%|██████████████████████████████████████████████████████████████████████████| 50000/50000 [00:21<00:00, 2284.51it/s]\n"
     ]
    }
   ],
   "source": [
    "train_images_hog = []\n",
    "\n",
    "for img in tqdm(train_images): \n",
    "    gray_img = color.rgb2gray(img)   \n",
    "    features = hog(gray_img, orientations=9, \n",
    "                   pixels_per_cell=(8, 8), \n",
    "                   cells_per_block=(2, 2), \n",
    "                   block_norm='L2-Hys')\n",
    "    train_images_hog.append(features)\n",
    "\n",
    "train_images_hog = np.array(train_images_hog)"
   ]
  },
  {
   "cell_type": "code",
   "execution_count": null,
   "id": "924affbd-a46c-427b-bcd1-c4cd0e9e8b6e",
   "metadata": {},
   "outputs": [],
   "source": []
  },
  {
   "cell_type": "code",
   "execution_count": 84,
   "id": "102374a5-e0fd-403f-b60a-887c999f7114",
   "metadata": {},
   "outputs": [
    {
     "data": {
      "text/html": [
       "<div>\n",
       "<style scoped>\n",
       "    .dataframe tbody tr th:only-of-type {\n",
       "        vertical-align: middle;\n",
       "    }\n",
       "\n",
       "    .dataframe tbody tr th {\n",
       "        vertical-align: top;\n",
       "    }\n",
       "\n",
       "    .dataframe thead th {\n",
       "        text-align: right;\n",
       "    }\n",
       "</style>\n",
       "<table border=\"1\" class=\"dataframe\">\n",
       "  <thead>\n",
       "    <tr style=\"text-align: right;\">\n",
       "      <th></th>\n",
       "      <th>image</th>\n",
       "      <th>labels</th>\n",
       "    </tr>\n",
       "  </thead>\n",
       "  <tbody>\n",
       "    <tr>\n",
       "      <th>0</th>\n",
       "      <td>[[[0.58431375, 0.6117647, 0.60784316], [0.7333...</td>\n",
       "      <td>airplane</td>\n",
       "    </tr>\n",
       "    <tr>\n",
       "      <th>1</th>\n",
       "      <td>[[[0.58431375, 0.4862745, 0.3529412], [0.58431...</td>\n",
       "      <td>airplane</td>\n",
       "    </tr>\n",
       "    <tr>\n",
       "      <th>2</th>\n",
       "      <td>[[[0.9607843, 0.9882353, 0.96862745], [0.94509...</td>\n",
       "      <td>airplane</td>\n",
       "    </tr>\n",
       "    <tr>\n",
       "      <th>3</th>\n",
       "      <td>[[[0.8745098, 0.94509804, 0.827451], [0.909803...</td>\n",
       "      <td>airplane</td>\n",
       "    </tr>\n",
       "    <tr>\n",
       "      <th>4</th>\n",
       "      <td>[[[0.9843137, 0.52156866, 0.18431373], [0.9764...</td>\n",
       "      <td>airplane</td>\n",
       "    </tr>\n",
       "  </tbody>\n",
       "</table>\n",
       "</div>"
      ],
      "text/plain": [
       "                                               image    labels\n",
       "0  [[[0.58431375, 0.6117647, 0.60784316], [0.7333...  airplane\n",
       "1  [[[0.58431375, 0.4862745, 0.3529412], [0.58431...  airplane\n",
       "2  [[[0.9607843, 0.9882353, 0.96862745], [0.94509...  airplane\n",
       "3  [[[0.8745098, 0.94509804, 0.827451], [0.909803...  airplane\n",
       "4  [[[0.9843137, 0.52156866, 0.18431373], [0.9764...  airplane"
      ]
     },
     "execution_count": 84,
     "metadata": {},
     "output_type": "execute_result"
    }
   ],
   "source": [
    "#Save array as dataframe\n",
    "train_images_df = pd.DataFrame({\"image\":list(train_images),\n",
    "                                \"labels\": train_labels} )\n",
    "\n",
    "test_images_df = pd.DataFrame({\"image\":list(test_images),\n",
    "                                \"labels\": test_labels} )"
   ]
  },
  {
   "cell_type": "code",
   "execution_count": 88,
   "id": "9189d8f3-1b49-4008-b748-ffc853c2051a",
   "metadata": {},
   "outputs": [],
   "source": [
    "#Save to csv\n",
    "\n",
    "#define path\n",
    "train_data_path = os.path.join(base_dir, 'cifar10/train_cifar10.csv')\n",
    "test_data_path = os.path.join(base_dir, 'cifar10/test_cifar10.csv')\n",
    "\n",
    "#Save to Path\n",
    "train_images_df.to_csv(train_data_path, index=False)\n",
    "test_images_df.to_csv(test_data_path, index=False)\n"
   ]
  },
  {
   "cell_type": "code",
   "execution_count": 102,
   "id": "265881eb-a241-4a32-998f-32901ae9d593",
   "metadata": {},
   "outputs": [
    {
     "name": "stdout",
     "output_type": "stream",
     "text": [
      "Classes ['airplane' 'automobile' 'bird' 'cat' 'deer' 'dog' 'frog' 'horse' 'ship'\n",
      " 'truck']\n",
      "Labels {np.int64(0), np.int64(1), np.int64(2), np.int64(3), np.int64(4), np.int64(5), np.int64(6), np.int64(7), np.int64(8), np.int64(9)}\n"
     ]
    }
   ],
   "source": [
    "#Encoding\n",
    "\n",
    "encoder = LabelEncoder()\n",
    "encoded_train_labels = encoder.fit_transform(train_labels)\n",
    "\n",
    "print(\"Classes\", encoder.classes_)\n",
    "print(\"Labels\", set(encoded_train_labels))"
   ]
  },
  {
   "cell_type": "markdown",
   "id": "136ad645-3992-4bce-b997-4b0d17c94da3",
   "metadata": {},
   "source": [
    "## CLASSIFIERS\n",
    "* Build two classifiers train one on the direct arrays and train one withe the extracted feature HOG"
   ]
  },
  {
   "cell_type": "code",
   "execution_count": 129,
   "id": "a99ac948-8fa9-461f-a731-ff612ec6d73c",
   "metadata": {},
   "outputs": [],
   "source": [
    "# Build classifier without HOG\n",
    "\n",
    "train_images_resize = train_images.reshape(train_images.shape[0], -1)\n",
    "\n",
    "# Train-test split\n",
    "X_train, X_val, y_train, y_val = train_test_split(\n",
    "    train_images_resize, encoded_train_labels, test_size=0.2, random_state=42, stratify=encoded_train_labels\n",
    ")\n",
    "\n",
    "X_train_hog, X_val_hog, y_train_hog, y_val_hog = train_test_split(\n",
    "    train_images_hog, encoded_train_labels, test_size=0.2, random_state=42, stratify=encoded_train_labels\n",
    ")\n",
    "\n",
    "\n"
   ]
  },
  {
   "cell_type": "code",
   "execution_count": 127,
   "id": "aa15509d-7a7e-4c04-9f92-4fa5893f3d4c",
   "metadata": {},
   "outputs": [
    {
     "name": "stdout",
     "output_type": "stream",
     "text": [
      "Logistic Regression Accuracy: 0.3152\n"
     ]
    }
   ],
   "source": [
    "log_reg = LogisticRegression(\n",
    "    max_iter=1000, solver=\"saga\", n_jobs=-1\n",
    ")\n",
    "log_reg.fit(X_train, y_train)\n",
    "\n",
    "y_pred_lr = log_reg.predict(X_val)\n",
    "acc_lr = accuracy_score(y_val, y_pred_lr)\n",
    "print(\"Logistic Regression Accuracy:\", acc_lr)\n"
   ]
  },
  {
   "cell_type": "code",
   "execution_count": 128,
   "id": "628af990-feb0-4723-a3eb-7341a9024048",
   "metadata": {},
   "outputs": [
    {
     "name": "stdout",
     "output_type": "stream",
     "text": [
      "\n",
      "📊 Logistic Regression Results\n",
      "Accuracy: 0.3152\n",
      "F1 Score (macro): 0.29207420672170475\n",
      "Classification Report:\n",
      "               precision    recall  f1-score   support\n",
      "\n",
      "    airplane       0.32      0.46      0.38      1000\n",
      "  automobile       0.37      0.25      0.30      1000\n",
      "        bird       0.35      0.10      0.15      1000\n",
      "         cat       0.27      0.07      0.11      1000\n",
      "        deer       0.33      0.20      0.25      1000\n",
      "         dog       0.29      0.39      0.33      1000\n",
      "        frog       0.26      0.51      0.34      1000\n",
      "       horse       0.30      0.19      0.24      1000\n",
      "        ship       0.37      0.47      0.41      1000\n",
      "       truck       0.33      0.51      0.40      1000\n",
      "\n",
      "    accuracy                           0.32     10000\n",
      "   macro avg       0.32      0.32      0.29     10000\n",
      "weighted avg       0.32      0.32      0.29     10000\n",
      "\n"
     ]
    }
   ],
   "source": [
    "print(\"\\n📊 Logistic Regression Results\")\n",
    "print(\"Accuracy:\", accuracy_score(y_val, y_pred_lr))\n",
    "print(\"F1 Score (macro):\", f1_score(y_val, y_pred_lr, average=\"macro\"))\n",
    "print(\"Classification Report:\\n\", classification_report(y_val, y_pred_lr, target_names=encoder.classes_))"
   ]
  },
  {
   "cell_type": "code",
   "execution_count": 130,
   "id": "3b89e1c7-4579-4f89-9a84-90a1d46009ed",
   "metadata": {},
   "outputs": [
    {
     "name": "stdout",
     "output_type": "stream",
     "text": [
      "Logistic Regression Accuracy: 0.5137\n"
     ]
    }
   ],
   "source": [
    "log_reg_hog = LogisticRegression(\n",
    "    max_iter=1000, solver=\"saga\", n_jobs=-1\n",
    ")\n",
    "log_reg_hog.fit(X_train_hog, y_train_hog)\n",
    "\n",
    "y_pred_lr_hog = log_reg_hog.predict(X_val_hog)\n",
    "acc_lr_hog = accuracy_score(y_val_hog, y_pred_lr_hog)\n",
    "print(\"Logistic Regression Accuracy:\", acc_lr_hog)"
   ]
  },
  {
   "cell_type": "code",
   "execution_count": 131,
   "id": "a385d3cf-19db-432e-90aa-549e2aaf4b5d",
   "metadata": {},
   "outputs": [
    {
     "name": "stdout",
     "output_type": "stream",
     "text": [
      "\n",
      "📊 Logistic Regression Results\n",
      "Accuracy: 0.5137\n",
      "F1 Score (macro): 0.5099492796758632\n",
      "Classification Report:\n",
      "               precision    recall  f1-score   support\n",
      "\n",
      "    airplane       0.62      0.58      0.60      1000\n",
      "  automobile       0.60      0.63      0.61      1000\n",
      "        bird       0.42      0.37      0.39      1000\n",
      "         cat       0.39      0.29      0.33      1000\n",
      "        deer       0.43      0.45      0.44      1000\n",
      "         dog       0.42      0.44      0.43      1000\n",
      "        frog       0.51      0.62      0.56      1000\n",
      "       horse       0.54      0.55      0.54      1000\n",
      "        ship       0.57      0.57      0.57      1000\n",
      "       truck       0.61      0.65      0.63      1000\n",
      "\n",
      "    accuracy                           0.51     10000\n",
      "   macro avg       0.51      0.51      0.51     10000\n",
      "weighted avg       0.51      0.51      0.51     10000\n",
      "\n"
     ]
    }
   ],
   "source": [
    "print(\"\\n📊 Logistic Regression Results\")\n",
    "print(\"Accuracy:\", accuracy_score(y_val_hog, y_pred_lr_hog))\n",
    "print(\"F1 Score (macro):\", f1_score(y_val_hog, y_pred_lr_hog, average=\"macro\"))\n",
    "print(\"Classification Report:\\n\", classification_report(y_val_hog, y_pred_lr_hog, target_names=encoder.classes_))"
   ]
  },
  {
   "cell_type": "markdown",
   "id": "d1ae0c74-84f8-4ce8-be86-7b5027b3b7d8",
   "metadata": {},
   "source": [
    "### 📊 Logistic Regression Results Without HOG vs With HOG\n",
    "* Accuracy: 0.3152 -> 0.5137\n",
    "* F1 Score (macro): 0.29207420672170475 | 0.5099492796758632\n",
    "* Classification Report:\n",
    "-               precision    recall  f1-score   support\n",
    "-\n",
    "-       airplane       0.32      0.46      0.38      1000  |   airplane       0.62      0.58      0.60      1000\n",
    "-     automobile       0.37      0.25      0.30      1000  | automobile       0.60      0.63      0.61      1000\n",
    "-           bird       0.35      0.10      0.15      1000  |       bird       0.42      0.37      0.39      1000\n",
    "-            cat       0.27      0.07      0.11      1000 |         cat       0.39      0.29      0.33      1000\n",
    "-           deer       0.33      0.20      0.25      1000 |        deer       0.43      0.45      0.44      1000\n",
    "-            dog       0.29      0.39      0.33      1000 |         dog       0.42      0.44      0.43      1000\n",
    "-           frog       0.26      0.51      0.34      1000 |        frog       0.51      0.62      0.56      1000\n",
    "-          horse       0.30      0.19      0.24      1000 |       horse       0.54      0.55      0.54      1000\n",
    "-           ship       0.37      0.47      0.41      1000 |        ship       0.57      0.57      0.57      1000\n",
    "-          truck       0.33      0.51      0.40      1000 |       truck       0.61      0.65      0.63      1000\n",
    "\n",
    "-       accuracy                           0.32     10000 |    accuracy                           0.51     10000\n",
    "-      macro avg       0.32      0.32      0.29     10000 |   macro avg       0.51      0.51      0.51     10000\n",
    "-     weighted avg     0.32      0.32      0.29     10000 |weighted avg       0.51      0.51      0.51     10000\n"
   ]
  },
  {
   "cell_type": "code",
   "execution_count": null,
   "id": "bf7378ef-163c-4d89-8d72-8a93a8a9f4bc",
   "metadata": {},
   "outputs": [],
   "source": []
  }
 ],
 "metadata": {
  "kernelspec": {
   "display_name": "Python 3 (ipykernel)",
   "language": "python",
   "name": "python3"
  },
  "language_info": {
   "codemirror_mode": {
    "name": "ipython",
    "version": 3
   },
   "file_extension": ".py",
   "mimetype": "text/x-python",
   "name": "python",
   "nbconvert_exporter": "python",
   "pygments_lexer": "ipython3",
   "version": "3.13.5"
  }
 },
 "nbformat": 4,
 "nbformat_minor": 5
}
